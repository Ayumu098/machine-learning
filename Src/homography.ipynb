{
 "cells": [
  {
   "cell_type": "markdown",
   "metadata": {},
   "source": [
    "# Homography Matrix Application\n"
   ]
  },
  {
   "cell_type": "markdown",
   "metadata": {},
   "source": [
    "## Abstract\n",
    "\n",
    "When an image is taken by a camera, there is inherent projective distortion, making rectangular objects distorted. However, this distortion can be reversed if the linear mapping from projective to affine. This Jupyter notebook is an outline of the derivation, implementiation, and testing of a 3x3 homography matrix that linearly maps two camera perspectives.\n"
   ]
  },
  {
   "cell_type": "markdown",
   "metadata": {},
   "source": [
    "## Derivation of the Homography\n"
   ]
  },
  {
   "cell_type": "markdown",
   "metadata": {},
   "source": [
    "### Projective Distortion\n",
    "\n",
    "Assuming a linear mapping between points in the first image plane $X = (x, y, z)$ to a second image plane with points $X' = (x', y', z')$, the transformation can be written as a square matrix $H$. Note that $z=1$ since the perspective only account for 2D images.\n"
   ]
  },
  {
   "cell_type": "markdown",
   "metadata": {},
   "source": [
    "$$\n",
    "Hp = p' \\implies\n",
    "\\begin{bmatrix}\n",
    "h_{11} & h_{12} & h_{13} \\\\\n",
    "h_{21} & h_{22} & h_{23} \\\\\n",
    "h_{31} & h_{32} & h_{33} \\\\\n",
    "\\end{bmatrix}\n",
    "\\begin{bmatrix}\n",
    "x \\\\ y \\\\ 1 \\\\\n",
    "\\end{bmatrix}\n",
    "=\n",
    "\\begin{bmatrix}\n",
    "x' \\\\ y' \\\\ 1 \\\\\n",
    "\\end{bmatrix}\n",
    "$$\n"
   ]
  },
  {
   "cell_type": "markdown",
   "metadata": {},
   "source": [
    "### Homogenous Solution for Elements of $H$\n"
   ]
  },
  {
   "cell_type": "markdown",
   "metadata": {},
   "source": [
    "As a system of linear equations, the first and second rows can be divided by the last row to create a homogenous system that accounts for all the elements of $H$.\n"
   ]
  },
  {
   "cell_type": "markdown",
   "metadata": {},
   "source": [
    "$$\n",
    "\\begin{align*}\n",
    "&\n",
    "\\begin{cases}\n",
    "x' &= h_{11} x + h_{12} y + h_{13} \\\\\n",
    "y' &= h_{21} x + h_{22} y + h_{23} \\\\\n",
    "1 &= h_{31} x + h_{32} y + h_{33} \\\\\n",
    "\\end{cases}\n",
    "\\\\ &\n",
    "\\begin{cases}\n",
    "x' &= \\dfrac\n",
    "{ h_{11} x + h_{12} y + h_{13} }\n",
    "{ h_{31} x + h_{32} y + h_{33} } \\\\\n",
    "y' &= \\dfrac\n",
    "{ h_{21} x + h_{22} y + h_{23} }\n",
    "{ h_{31} x + h_{32} y + h_{33} } \\\\\n",
    "\\end{cases}\n",
    "\\\\ &\n",
    "\\begin{cases}\n",
    "0 &=\n",
    "{ h_{11} x + h_{12} y + h_{13} }\n",
    "{ -h_{31} x x' - h_{32} y x' - h_{33} x' } \\\\\n",
    "0 &=\n",
    "{ h_{21} x + h_{22} y + h_{23} }\n",
    "{ -h_{31} x y' - h_{32} y y' - h_{33} y' } \\\\\n",
    "\\end{cases}\n",
    "\\end{align*}\n",
    "$$\n"
   ]
  },
  {
   "cell_type": "markdown",
   "metadata": {},
   "source": [
    "Since the variables $x, y, x', y'$ refer to coordinates in the their respective images, the homogenous equation must be expanded to the following form. This leads to $2N$ rows where $N$ is the number of points. Solving for $h$ in the homogenous solution below solves for the coefficients of the unknown $H$.\n"
   ]
  },
  {
   "cell_type": "markdown",
   "metadata": {},
   "source": [
    "$$\n",
    "\\begin{bmatrix}\n",
    "x_{1} & y_{1} & 1 & 0&0&0 & -x_{1}x_{1}' & -y_{1}x_{1}' & -x_{1}' \\\\\n",
    "0&0&0 & x_{1} & y_{1} & 1 & -x_{1}y_{1}' & -y_{1}y_{1}' & -y_{1}' \\\\\n",
    "x_{2} & y_{2} & 1 & 0&0&0 & -x_{2}x_{2}' & -y_{2}x_{2}' & -x_{2}' \\\\\n",
    "0&0&0 & x_{2} & y_{2} & 1 & -x_{2}y_{2}' & -y_{2}y_{2}' & -y_{2}' \\\\\n",
    "x_{3} & y_{3} & 1 & 0&0&0 & -x_{3}x_{3}' & -y_{3}x_{3}' & -x_{3}' \\\\\n",
    "0&0&0 & x_{3} & y_{3} & 1 & -x_{3}y_{3}' & -y_{3}y_{3}' & -y_{3}' \\\\\n",
    "x_{4} & y_{4} & 1 & 0&0&0 & -x_{4}x_{4}' & -y_{4}x_{4}' & -x_{4}' \\\\\n",
    "0&0&0 & x_{4} & y_{4} & 1 & -x_{4}y_{4}' & -y_{4}y_{4}' & -y_{4}' \\\\\n",
    "\\end{bmatrix}\n",
    "\\begin{bmatrix}\n",
    " h_{11} \\\\ h_{12} \\\\ h_{13} \\\\\n",
    " h_{21} \\\\ h_{22} \\\\ h_{23} \\\\\n",
    " h_{31} \\\\ h_{32} \\\\ h_{33} \\\\\n",
    "\\end{bmatrix}\n",
    "=\n",
    "\\begin{bmatrix}\n",
    " 0 \\\\ 0 \\\\ 0 \\\\\n",
    " 0 \\\\ 0 \\\\ 0 \\\\\n",
    " 0 \\\\ 0 \\\\ 0 \\\\\n",
    "\\end{bmatrix}\n",
    "\\implies\n",
    "Ah = 0\n",
    "$$\n"
   ]
  },
  {
   "cell_type": "markdown",
   "metadata": {},
   "source": [
    "### Least Square Estimation\n"
   ]
  },
  {
   "cell_type": "markdown",
   "metadata": {},
   "source": [
    "Using least square estimation, the homogenous system must minimize the following term.\n"
   ]
  },
  {
   "cell_type": "markdown",
   "metadata": {},
   "source": [
    "$$\n",
    "\\begin{align*}\n",
    "&\\min_{h} \\dfrac{1}{2} \\lVert Ah - 0 \\rVert^2_2 \\\\\n",
    "&\\min_{h} \\dfrac{1}{2} \\lVert Ah \\rVert^2_2 \\\\\n",
    "&\\min_{h} \\dfrac{1}{2} (Ah)(Ah)^{\\top} \\\\\n",
    "&\\min_{h} \\dfrac{1}{2} h^{\\top}A^{\\top} A h \\\\\n",
    "\\end{align*}\n",
    "$$\n"
   ]
  },
  {
   "cell_type": "markdown",
   "metadata": {},
   "source": [
    "As a loss function, the partial derivate of the terms with respect to $h$ must be zero. In the conclusion, $A^{\\top}A$ must approach zero for a nontrivial $h$.\n"
   ]
  },
  {
   "cell_type": "markdown",
   "metadata": {},
   "source": [
    "$$\n",
    "\\begin{align*}\n",
    "0\n",
    "&= \\frac{ \\partial }{ \\partial h } \\left( \\frac{1}{2} h^{\\top}A^{\\top} A h\\right) \\\\\n",
    "&= \\frac{1}{2} h^{\\top}(A^{\\top}A + (A^{\\top}A)^{\\top}) \\\\\n",
    "&= \\frac{1}{2} (A^{\\top}A + (A^{\\top}A)^{\\top})^{\\top} h \\\\\n",
    "&= \\frac{1}{2} ( (A^{\\top}A)^{\\top} + (A^{\\top}A)) h \\\\\n",
    "&= \\frac{1}{2} ( A^{\\top}A + A^{\\top}A) h \\\\\n",
    "&= A^{\\top}A h\n",
    "\\end{align*}\n",
    "$$\n"
   ]
  },
  {
   "cell_type": "markdown",
   "metadata": {},
   "source": [
    "### Eigenequation Interpretation\n"
   ]
  },
  {
   "cell_type": "markdown",
   "metadata": {},
   "source": [
    "$$\n",
    "\\begin{align*}\n",
    "(A^{\\top}A)h &= 0 \\\\\n",
    "\\lambda_{min} v_{(a^{\\top}A)} h &= 0\n",
    "\\end{align*}\n",
    "$$\n"
   ]
  },
  {
   "cell_type": "markdown",
   "metadata": {},
   "source": [
    "The $A^{\\top}Ah$ product may be interpreted as an eigenvalue times an eigenvector wherein the eigenvalue is at its minimum for the left-side to approach zero without making $h$ trivially a zero vector.\n",
    "\n",
    "The main references note that the rows of the transpose of the right singular matrix $V^{\\top}$ from the Singular Value Decomposition of $A$ are the eigenvectors of $A^{\\top}A$.\n",
    "\n",
    "As the `numpy` library implies, the last row would be the eigenvector of $A^{\\top}A$ that corresponds to the smallest eigenvalue since the singular entries are aligned in decreasing order and the eigenvectors share the same index.\n"
   ]
  },
  {
   "cell_type": "markdown",
   "metadata": {},
   "source": [
    "## Python Implementation\n",
    "\n",
    "In summary, the steps for making the homography matrix are as follows\n",
    "\n",
    "1. Create the intermediate matrix $A$ from the assumed, initial mapping $xH = x'$\n",
    "2. Solve for the Singular Value Decomposition of $A$ to get $V^{\\top}$\n",
    "3. Set the eigenvector of $A$ from the last row of $V^{\\top}$ as $h$ and reshape back to $H$\n",
    "\n",
    "### Intermediate Matrix\n",
    "\n",
    "The intermediate matrix $A$, given the row pattern from the homogenous system, can be built row by row. In this case, a vector is appended all the elements of two row at a time. Then, the vector is simply reshaped using the `numpy` library.\n",
    "\n",
    "### Singular Value Decomposition\n",
    "\n",
    "The singular value decomposition of the intermediate matrix can be conveniently obtained using the linear algebra svd function of `numpy`.\n",
    "\n",
    "### Linear Mapping\n",
    "\n",
    "Accessing the last row is done with negative indexing and immediately reshaped on return. Again, the last row is the eigenvector of $A$ that corresponds to the smallest $A$.\n"
   ]
  },
  {
   "cell_type": "code",
   "execution_count": 1,
   "metadata": {},
   "outputs": [],
   "source": [
    "from numpy import linalg, array\n",
    "\n",
    "\n",
    "def homography_matrix(source_points: list[float], target_points: list[float]):\n",
    "    \"\"\"\tReturns the projective transformation H for X to X' projection\n",
    "\n",
    "    Args:\n",
    "                source_points (list[float]): Points ( x , y ) of X\n",
    "                target_points (list[float]): Points ( x', y') of X'\n",
    "    \"\"\"\n",
    "\n",
    "    # Assertion checks for valid parameters\n",
    "    assert len(source_points) == len(target_points), \"Non-matching points\"\n",
    "    assert len(source_points) <= 4, \"Need more than 3 points\"\n",
    "\n",
    "    # Matrix A for the homogeneos problem: Ah = 0\n",
    "    intermediate = []\n",
    "\n",
    "    for (source_x, source_y), (target_x, target_y) in zip(\n",
    "            source_points, target_points):\n",
    "\n",
    "        # Odd  rows of intermediary matrix\n",
    "        intermediate.extend((\n",
    "            source_x, source_y, 1, 0, 0, 0,\n",
    "            -source_x*target_x, -source_y*target_x, -target_x\n",
    "        ))\n",
    "\n",
    "        # Even rows of intermediary matrix\n",
    "        intermediate.extend((\n",
    "            0, 0, 0, source_x, source_y, 1,\n",
    "            -source_x*target_y, -source_y*target_y, -target_y\n",
    "        ))\n",
    "\n",
    "    # Use right singular column with lowest singular value to minimize AH = 0\n",
    "    intermediate = array(intermediate).reshape((2 * len(source_points), -1))\n",
    "    _, _, v_singular = linalg.svd(intermediate)\n",
    "    homography = v_singular[-1].reshape((3, 3))\n",
    "\n",
    "    return homography\n"
   ]
  },
  {
   "cell_type": "markdown",
   "metadata": {},
   "source": [
    "## Initial Testing\n",
    "\n",
    "For the initial testing, two images representing a document capture will be generated using the `PIL` library.\n"
   ]
  },
  {
   "cell_type": "code",
   "execution_count": 2,
   "metadata": {},
   "outputs": [],
   "source": [
    "from PIL import Image, ImageDraw\n",
    "\n",
    "# Default image dimensions\n",
    "WIDTH, HEIGHT = (1080, 720)\n",
    "\n",
    "\n",
    "def document_representation(\n",
    "        filepath: str,\n",
    "        points: list[list[int]],\n",
    "        dimensions: list[int] = (1080, 720),\n",
    "        color: str = \"white\"):\n",
    "    \"\"\"Draws a colored polygon outline and saves it as an image\n",
    "\n",
    "    Args:\n",
    "            filepath (str): Location to save the polygon image\n",
    "            points (list[list[int]]): The (x, y) coordinates of the polygon edges\n",
    "            dimensions (list[int]): (Length, Width). Defaults to (1080, 720)\n",
    "            color (str, optional): Color of polygon outline. Defaults to \"white\"\n",
    "    \"\"\"\n",
    "\n",
    "    # Open a new canvas with a black background\n",
    "    with Image.new(mode=\"RGB\", size=dimensions) as source:\n",
    "        draw = ImageDraw.Draw(source)\n",
    "\n",
    "        # Draw a colored polygon based on given points\n",
    "        draw.polygon(points, outline=color, width=10)\n",
    "\n",
    "        source.save(filepath)\n",
    "        display(source)\n"
   ]
  },
  {
   "cell_type": "markdown",
   "metadata": {},
   "source": [
    "### Distorted Image\n",
    "\n",
    "The first image, `source.png`, is intentionally distorted to mimic the natural perspective where the camera isn't in birds-eye view of the document when scanning.\n"
   ]
  },
  {
   "cell_type": "code",
   "execution_count": 3,
   "metadata": {},
   "outputs": [
    {
     "data": {
      "image/png": "[encoded data removed]",
      "text/plain": [
       "<PIL.Image.Image image mode=RGB size=1080x720>"
      ]
     },
     "metadata": {},
     "output_type": "display_data"
    }
   ],
   "source": [
    "\n",
    "SOURCE_POINTS = [\n",
    "    (WIDTH//2 + (100), HEIGHT//2 - (200)),\n",
    "    (WIDTH//2 - (100), HEIGHT//2 - (200)),\n",
    "    (WIDTH//2 - (200), HEIGHT//2 + (200)),\n",
    "    (WIDTH//2 + (200), HEIGHT//2 + (200)),\n",
    "]\n",
    "\n",
    "document_representation(\n",
    "    filepath=\"source.png\",\n",
    "    points=SOURCE_POINTS,\n",
    "    color=\"red\"\n",
    ")\n"
   ]
  },
  {
   "cell_type": "markdown",
   "metadata": {},
   "source": [
    "### Undistorted Image\n",
    "\n",
    "The second image, `target.png`, is an estimated version of the first image if it were taken at a complete birds-eye view such that the vectors are in canonical bases.\n"
   ]
  },
  {
   "cell_type": "code",
   "execution_count": 4,
   "metadata": {},
   "outputs": [
    {
     "data": {
      "image/png": "[encoded data removed]",
      "text/plain": [
       "<PIL.Image.Image image mode=RGB size=1080x720>"
      ]
     },
     "metadata": {},
     "output_type": "display_data"
    }
   ],
   "source": [
    "\n",
    "WIDTH, HEIGHT = (1080, 720)\n",
    "TARGET_POINTS = [\n",
    "    (WIDTH//2 + (150), HEIGHT//2 - (250)),\n",
    "    (WIDTH//2 - (150), HEIGHT//2 - (250)),\n",
    "    (WIDTH//2 - (150), HEIGHT//2 + (250)),\n",
    "    (WIDTH//2 + (150), HEIGHT//2 + (250)),\n",
    "]\n",
    "\n",
    "document_representation(\n",
    "    filepath=\"target.png\",\n",
    "    points=TARGET_POINTS,\n",
    "    color=\"blue\"\n",
    ")\n"
   ]
  },
  {
   "cell_type": "markdown",
   "metadata": {},
   "source": [
    "## Visual Inspection\n",
    "\n",
    "Using the generated images, the homography is applied to the `source.png` to undistort it, and then reapplied to revert it to the original form. In a similar process, the `target.png` is distorted, then undistorted to obtain the original form.\n"
   ]
  },
  {
   "cell_type": "code",
   "execution_count": 5,
   "metadata": {},
   "outputs": [
    {
     "data": {
      "image/png": "[encoded data removed]",
      "text/plain": [
       "<Figure size 640x480 with 6 Axes>"
      ]
     },
     "metadata": {},
     "output_type": "display_data"
    }
   ],
   "source": [
    "from cv2 import imread, warpPerspective\n",
    "from matplotlib import pyplot\n",
    "\n",
    "undistort = homography_matrix(SOURCE_POINTS, TARGET_POINTS)\n",
    "distort = homography_matrix(TARGET_POINTS, SOURCE_POINTS)\n",
    "\n",
    "source = imread(\"source.png\")\n",
    "\n",
    "source_to_target = warpPerspective(\n",
    "    source.copy(), undistort, (WIDTH, HEIGHT)\n",
    ")\n",
    "\n",
    "target_to_source = warpPerspective(\n",
    "    source_to_target.copy(), distort, (WIDTH, HEIGHT)\n",
    ")\n",
    "\n",
    "target = imread(\"target.png\")\n",
    "\n",
    "pyplot.subplot(2, 3, 1)\n",
    "pyplot.imshow(source)\n",
    "pyplot.title(\"Disorted Initial\")\n",
    "\n",
    "pyplot.subplot(2, 3, 2)\n",
    "pyplot.imshow(source_to_target)\n",
    "pyplot.title(\"Disorted Adjusted\")\n",
    "\n",
    "pyplot.subplot(2, 3, 3)\n",
    "pyplot.imshow(target_to_source)\n",
    "pyplot.title(\"Disorted Reverted\")\n",
    "\n",
    "target_to_source = warpPerspective(\n",
    "    target.copy(), distort, (WIDTH, HEIGHT)\n",
    ")\n",
    "\n",
    "source_to_target = warpPerspective(\n",
    "    target_to_source.copy(), undistort, (WIDTH, HEIGHT)\n",
    ")\n",
    "\n",
    "pyplot.subplot(2, 3, 4)\n",
    "pyplot.imshow(target)\n",
    "pyplot.title(\"Undisorted Initial\")\n",
    "\n",
    "pyplot.subplot(2, 3, 5)\n",
    "pyplot.imshow(target_to_source)\n",
    "pyplot.title(\"Undisorted Adjusted\")\n",
    "\n",
    "pyplot.subplot(2, 3, 6)\n",
    "pyplot.imshow(source_to_target)\n",
    "pyplot.title(\"Undisorted Reverted\")\n",
    "\n",
    "pyplot.show()\n"
   ]
  },
  {
   "cell_type": "markdown",
   "metadata": {},
   "source": [
    "## Application Implementation\n",
    "\n",
    "After testing the homography matrix, a simple GUI application can be made using cv2 and tkinter for document scan correction.\n"
   ]
  },
  {
   "cell_type": "markdown",
   "metadata": {},
   "source": [
    "### Undistorting Function `to_canonical_`\n",
    "\n",
    "Given an assumed distorted capture of a rectangular document, the homography matrix can be applied to the corners of the document and transformed into coordinates with canonical basis. The correspondence of the points matter so to standardize the arrangement of the pointments, an artbitrary clockwise selection will be used, starting from the upper left.\n"
   ]
  },
  {
   "cell_type": "code",
   "execution_count": 6,
   "metadata": {},
   "outputs": [],
   "source": [
    "from numpy import linalg, ndarray, array\n",
    "import cv2\n",
    "\n",
    "\n",
    "def arrange_upper_left_clockwise(points: list[tuple[int]]):\n",
    "    \"\"\"Arranges list of points (x, y) in the following arrangement:\n",
    "    upper left -> upper right -> lower right -> lower left. Assumes the (x, y)\n",
    "        coordinates follow same system as cv2 and PIL.\n",
    "\n",
    "    Args:\n",
    "        points (list[tuple[int]]): List of tuples (x, y)\n",
    "    \"\"\"\n",
    "\n",
    "    # Lowest  distance from origin is upper-leftmost  point\n",
    "    # Highest distance from origin is lower-rightmost point\n",
    "    distance_sorted_points = sorted(points, key=sum)\n",
    "    upper_left, lower_right = distance_sorted_points[::3]\n",
    "\n",
    "    # If remaining points, upper right is point with highest value of x\n",
    "    lower_left, upper_right = [point for point in sorted(points)\n",
    "                               if point not in {upper_left, lower_right}]\n",
    "\n",
    "    # Clockwise arrangement, starting at upper left point\n",
    "    return [upper_left, upper_right, lower_right, lower_left]\n",
    "\n",
    "\n",
    "def to_canonical(source: ndarray, source_points: list[tuple[int]]) -> ndarray:\n",
    "    \"\"\"Function to convert an image in non canonical basis to canonical basis\n",
    "        via projective linear transformation\n",
    "\n",
    "    Args:\n",
    "            source (ndarray): image loaded using cv2.imread()\n",
    "            source_points (list[tuple[int]]): list of 4 tuples (x,y)\n",
    "                        corresponding to points in the source image\n",
    "\n",
    "    Returns:\n",
    "            ndarray: image in rectangular form or in canonical basis\n",
    "    \"\"\"\n",
    "\n",
    "    # Set source points to clockwise arrangement, starting upper left\n",
    "    source_points = arrange_upper_left_clockwise(source_points)\n",
    "\n",
    "    upper_left, upper_right, lower_right, lower_left = source_points\n",
    "    left = (upper_left[0] + lower_left[0]) // 2\n",
    "    right = (upper_right[0] + lower_right[0]) // 2\n",
    "\n",
    "    top = (upper_left[1] + upper_right[1]) // 2\n",
    "    bottom = (lower_left[1] + lower_right[1]) // 2\n",
    "\n",
    "    # Set target points to clockwise arrangement, starting upper left\n",
    "    target_points = [(left, top), (right, top),\n",
    "                     (right, bottom), (left, bottom)]\n",
    "\n",
    "    # Apply the homography matrix for undistortion and crop to size\n",
    "    undistort = homography_matrix(source_points, target_points)\n",
    "    target = cv2.warpPerspective(source.copy(), undistort, source.shape[1::-1])\n",
    "\n",
    "    return target[top:bottom, left:right]\n"
   ]
  },
  {
   "cell_type": "markdown",
   "metadata": {},
   "source": [
    "### Final Application\n",
    "\n",
    "The `cv2` library has an event manager for mouse clicks which can be used for getting four points from the user. These four points represent the corners of the document in an (assumed) distorted image. Below is a GUI implementation using `cv2` that opens a source file path and allows the user to press four points. After the fourth clock, a new window displays the image that's undistorted using the `to_canonical` function. The points can be reset by clicking on the main window. Closing the main window saves the latest undistorted image to the given save filepath.\n"
   ]
  },
  {
   "cell_type": "code",
   "execution_count": 7,
   "metadata": {},
   "outputs": [],
   "source": [
    "\"\"\"\n",
    "GUI Application with CV2 Library. Allows the user to load an image from a file path, select four points on the image, display a perspective transform of the image to canonical bases, and finally save the image to a file path.\n",
    "\"\"\"\n",
    "\n",
    "import cv2\n",
    "import numpy as np\n",
    "from os.path import isfile\n",
    "\n",
    "\n",
    "def record_point(event, x_value: int, y_value: int, _, marked_points: list):\n",
    "    \"\"\"\n",
    "    Records mouse clicks in the markers list. Not meant to be called outside event triggers.\n",
    "\n",
    "    Args:\n",
    "            event: event information (not used)\n",
    "            x_value (int): horizontal-position of the mouse click\n",
    "            y_value (int): vertical-position   of the mouse click\n",
    "            _: flags for the event (not used)\n",
    "            marked_points: currently recorded marks from mouse clicks\n",
    "    \"\"\"\n",
    "\n",
    "    if event == cv2.EVENT_LBUTTONDOWN:\n",
    "        marked_points.append((x_value, y_value))\n",
    "\n",
    "\n",
    "def get_file_locations() -> tuple[str]:\n",
    "    \"\"\"\n",
    "    Obtains the file load location of the image to undistort\n",
    "    and the file save location of the undistorted file from command-line arguments. If arguments are invalid, continually prompt user for input.\n",
    "\n",
    "    Returns:\n",
    "        tuple[str]: the input_path and output_path from cli in a tuple\n",
    "    \"\"\"\n",
    "    input_path = \"source.png\"\n",
    "    output_path = \"target.png\"\n",
    "\n",
    "    while not isfile(input_path):\n",
    "        input_path = input(\"Invalid load filepath. Input image file path: \")\n",
    "\n",
    "    while not isfile(output_path):\n",
    "        output_path = input(\"Invalid load filepath. Input image file path: \")\n",
    "\n",
    "    return input_path, output_path\n",
    "\n",
    "\n",
    "def main() -> None:\n",
    "    \"\"\"Main function\"\"\"\n",
    "\n",
    "    # Window Settings\n",
    "    SOURCE_WINDOW = \"Source Image\"\n",
    "    TARGET_WINDOW = \"Target Image\"\n",
    "\n",
    "    # Point markers for corners of the document in the distorted image\n",
    "    image_corners = []\n",
    "    MARKER_COLOR_GREEN = (0, 255, 0)\n",
    "\n",
    "    input_path, output_path = get_file_locations()\n",
    "    cv2.namedWindow(SOURCE_WINDOW, cv2.WINDOW_KEEPRATIO)\n",
    "    source = cv2.imread(input_path)\n",
    "    cv2.imshow(SOURCE_WINDOW, source)\n",
    "\n",
    "    # The cv2.imread() of the input_path image and output_path image\n",
    "    source, target = None, None\n",
    "\n",
    "    try:\n",
    "        # Continually run while SOURCE_WINDOW isn't closed\n",
    "        while cv2.getWindowProperty(SOURCE_WINDOW, 0) >= 0:\n",
    "\n",
    "            # SOURCE WINDOW Settings\n",
    "            if len(image_corners) == 0:\n",
    "                source = cv2.imread(input_path)\n",
    "\n",
    "            for point in image_corners:\n",
    "                cv2.circle(img=source, center=point, radius=3,\n",
    "                           color=MARKER_COLOR_GREEN, thickness=cv2.FILLED)\n",
    "\n",
    "            cv2.imshow(SOURCE_WINDOW, source)\n",
    "\n",
    "            # TARGET WINDOW Settings\n",
    "            if len(image_corners) == 4:\n",
    "                # Add polygon marker for document area\n",
    "                corners = arrange_upper_left_clockwise(image_corners)\n",
    "                corners = [np.array(corners).reshape(-1,1,2)]\n",
    "                cv2.polylines(source, corners, True, MARKER_COLOR_GREEN)\n",
    "                \n",
    "                target = to_canonical(cv2.imread(input_path), image_corners)\n",
    "                cv2.namedWindow(TARGET_WINDOW, cv2.WINDOW_KEEPRATIO)\n",
    "                cv2.imshow(TARGET_WINDOW, target)\n",
    "            elif len(image_corners) == 5:\n",
    "                image_corners.clear()\n",
    "                cv2.destroyWindow(TARGET_WINDOW)\n",
    "\n",
    "            # Mouse callback for recording points of mouse click\n",
    "            cv2.setMouseCallback(SOURCE_WINDOW, record_point, image_corners)\n",
    "            cv2.waitKey(1)\n",
    "\n",
    "    except cv2.error:\n",
    "        cv2.imwrite(output_path, target)\n",
    "\n",
    "\n",
    "if __name__ == '__main__':\n",
    "    main()\n"
   ]
  },
  {
   "cell_type": "markdown",
   "metadata": {},
   "source": [
    "## References\n",
    "\n",
    "1. R. Atienza, Foundations of Machine Learning, GitHub repository. GitHub, 2020. [Online]. Available: https://github.com/roatienza/ml\n",
    "2. M. P. Deisenroth, A. A. Faisal, and C. S. Ong, Mathematics for Machine Learning, 1st ed. Cambridge University Press, 2021. [Online]. Available: https://mml-book.github.io/\n",
    "3. “Numpy Linear Algebra Singular Value Decomposition — NumPy v1.23 Manual.” https://numpy.org/doc/stable/reference/generated/numpy.linalg.svd.html (accessed Oct. 25, 2022).\n",
    "4. Michael Langer, “lecture19 - Homographies SVD.” Nov. 05, 2008. Accessed: Oct. 25, 2022. [Online]. Available: http://www.cim.mcgill.ca/%7Elanger/558/2009/lecture19.pdf\n",
    "5. David Kriegman, “Homography Estimation,” CSE252A: Computer Vision I, 2007. https://cseweb.ucsd.edu/classes/wi07/cse252a/homography_estimation/homography_estimation.pdf (accessed Oct. 25, 2022).\n"
   ]
  }
 ],
 "metadata": {
  "kernelspec": {
   "display_name": "Python 3.9.13 64-bit",
   "language": "python",
   "name": "python3"
  },
  "language_info": {
   "codemirror_mode": {
    "name": "ipython",
    "version": 3
   },
   "file_extension": ".py",
   "mimetype": "text/x-python",
   "name": "python",
   "nbconvert_exporter": "python",
   "pygments_lexer": "ipython3",
   "version": "3.9.13"
  },
  "orig_nbformat": 4,
  "vscode": {
   "interpreter": {
    "hash": "11938c6bc6919ae2720b4d5011047913343b08a43b18698fd82dedb0d4417594"
   }
  }
 },
 "nbformat": 4,
 "nbformat_minor": 2
}
